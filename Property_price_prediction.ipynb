{
  "nbformat": 4,
  "nbformat_minor": 0,
  "metadata": {
    "colab": {
      "name": "Property price prediction.ipynb",
      "provenance": [],
      "collapsed_sections": [],
      "include_colab_link": true
    },
    "kernelspec": {
      "name": "python3",
      "display_name": "Python 3"
    },
    "language_info": {
      "name": "python"
    }
  },
  "cells": [
    {
      "cell_type": "markdown",
      "metadata": {
        "id": "view-in-github",
        "colab_type": "text"
      },
      "source": [
        "<a href=\"https://colab.research.google.com/github/sandeep328/html/blob/main/Property_price_prediction.ipynb\" target=\"_parent\"><img src=\"https://colab.research.google.com/assets/colab-badge.svg\" alt=\"Open In Colab\"/></a>"
      ]
    },
    {
      "cell_type": "code",
      "metadata": {
        "id": "jvSAFnEntLB7"
      },
      "source": [
        "import pandas as pd\n",
        "import numpy as np\n",
        "import matplotlib.pyplot as plt\n",
        "import seaborn as sns\n",
        "import sklearn"
      ],
      "execution_count": null,
      "outputs": []
    },
    {
      "cell_type": "code",
      "metadata": {
        "id": "0lRO3auUv3r-"
      },
      "source": [
        "file1 = pd.read_csv('/content/Property_Price_Train.csv')"
      ],
      "execution_count": null,
      "outputs": []
    },
    {
      "cell_type": "code",
      "metadata": {
        "colab": {
          "base_uri": "https://localhost:8080/"
        },
        "id": "B8XzgC3swC7O",
        "outputId": "e1f14a92-5ba9-4288-ec2a-50921c833670"
      },
      "source": [
        "file1.shape"
      ],
      "execution_count": null,
      "outputs": [
        {
          "output_type": "execute_result",
          "data": {
            "text/plain": [
              "(1459, 81)"
            ]
          },
          "metadata": {},
          "execution_count": 123
        }
      ]
    },
    {
      "cell_type": "code",
      "metadata": {
        "colab": {
          "base_uri": "https://localhost:8080/"
        },
        "id": "hVkQh3MCwLON",
        "outputId": "bbaef3d9-34c6-4dd7-ead9-d573fa69a3c6"
      },
      "source": [
        "file1.info()"
      ],
      "execution_count": null,
      "outputs": [
        {
          "output_type": "stream",
          "name": "stdout",
          "text": [
            "<class 'pandas.core.frame.DataFrame'>\n",
            "RangeIndex: 1459 entries, 0 to 1458\n",
            "Data columns (total 81 columns):\n",
            " #   Column                     Non-Null Count  Dtype  \n",
            "---  ------                     --------------  -----  \n",
            " 0   Id                         1459 non-null   int64  \n",
            " 1   Building_Class             1459 non-null   int64  \n",
            " 2   Zoning_Class               1459 non-null   object \n",
            " 3   Lot_Extent                 1200 non-null   float64\n",
            " 4   Lot_Size                   1459 non-null   int64  \n",
            " 5   Road_Type                  1459 non-null   object \n",
            " 6   Lane_Type                  91 non-null     object \n",
            " 7   Property_Shape             1459 non-null   object \n",
            " 8   Land_Outline               1459 non-null   object \n",
            " 9   Utility_Type               1459 non-null   object \n",
            " 10  Lot_Configuration          1459 non-null   object \n",
            " 11  Property_Slope             1459 non-null   object \n",
            " 12  Neighborhood               1459 non-null   object \n",
            " 13  Condition1                 1459 non-null   object \n",
            " 14  Condition2                 1459 non-null   object \n",
            " 15  House_Type                 1459 non-null   object \n",
            " 16  House_Design               1459 non-null   object \n",
            " 17  Overall_Material           1459 non-null   int64  \n",
            " 18  House_Condition            1459 non-null   int64  \n",
            " 19  Construction_Year          1459 non-null   int64  \n",
            " 20  Remodel_Year               1459 non-null   int64  \n",
            " 21  Roof_Design                1459 non-null   object \n",
            " 22  Roof_Quality               1459 non-null   object \n",
            " 23  Exterior1st                1459 non-null   object \n",
            " 24  Exterior2nd                1459 non-null   object \n",
            " 25  Brick_Veneer_Type          1451 non-null   object \n",
            " 26  Brick_Veneer_Area          1451 non-null   float64\n",
            " 27  Exterior_Material          1459 non-null   object \n",
            " 28  Exterior_Condition         1459 non-null   object \n",
            " 29  Foundation_Type            1459 non-null   object \n",
            " 30  Basement_Height            1422 non-null   object \n",
            " 31  Basement_Condition         1422 non-null   object \n",
            " 32  Exposure_Level             1421 non-null   object \n",
            " 33  BsmtFinType1               1422 non-null   object \n",
            " 34  BsmtFinSF1                 1459 non-null   int64  \n",
            " 35  BsmtFinType2               1421 non-null   object \n",
            " 36  BsmtFinSF2                 1459 non-null   int64  \n",
            " 37  BsmtUnfSF                  1459 non-null   int64  \n",
            " 38  Total_Basement_Area        1459 non-null   int64  \n",
            " 39  Heating_Type               1459 non-null   object \n",
            " 40  Heating_Quality            1459 non-null   object \n",
            " 41  Air_Conditioning           1459 non-null   object \n",
            " 42  Electrical_System          1458 non-null   object \n",
            " 43  First_Floor_Area           1459 non-null   int64  \n",
            " 44  Second_Floor_Area          1459 non-null   int64  \n",
            " 45  LowQualFinSF               1459 non-null   int64  \n",
            " 46  Grade_Living_Area          1459 non-null   int64  \n",
            " 47  Underground_Full_Bathroom  1459 non-null   int64  \n",
            " 48  Underground_Half_Bathroom  1459 non-null   int64  \n",
            " 49  Full_Bathroom_Above_Grade  1459 non-null   int64  \n",
            " 50  Half_Bathroom_Above_Grade  1459 non-null   int64  \n",
            " 51  Bedroom_Above_Grade        1459 non-null   int64  \n",
            " 52  Kitchen_Above_Grade        1459 non-null   int64  \n",
            " 53  Kitchen_Quality            1459 non-null   object \n",
            " 54  Rooms_Above_Grade          1459 non-null   int64  \n",
            " 55  Functional_Rate            1459 non-null   object \n",
            " 56  Fireplaces                 1459 non-null   int64  \n",
            " 57  Fireplace_Quality          770 non-null    object \n",
            " 58  Garage                     1378 non-null   object \n",
            " 59  Garage_Built_Year          1378 non-null   float64\n",
            " 60  Garage_Finish_Year         1378 non-null   object \n",
            " 61  Garage_Size                1459 non-null   int64  \n",
            " 62  Garage_Area                1459 non-null   float64\n",
            " 63  Garage_Quality             1378 non-null   object \n",
            " 64  Garage_Condition           1378 non-null   object \n",
            " 65  Pavedd_Drive               1459 non-null   object \n",
            " 66  W_Deck_Area                1459 non-null   float64\n",
            " 67  Open_Lobby_Area            1459 non-null   float64\n",
            " 68  Enclosed_Lobby_Area        1459 non-null   float64\n",
            " 69  Three_Season_Lobby_Area    1459 non-null   int64  \n",
            " 70  Screen_Lobby_Area          1459 non-null   int64  \n",
            " 71  Pool_Area                  1459 non-null   int64  \n",
            " 72  Pool_Quality               7 non-null      object \n",
            " 73  Fence_Quality              281 non-null    object \n",
            " 74  Miscellaneous_Feature      54 non-null     object \n",
            " 75  Miscellaneous_Value        1459 non-null   int64  \n",
            " 76  Month_Sold                 1459 non-null   int64  \n",
            " 77  Year_Sold                  1459 non-null   int64  \n",
            " 78  Sale_Type                  1459 non-null   object \n",
            " 79  Sale_Condition             1459 non-null   object \n",
            " 80  Sale_Price                 1459 non-null   int64  \n",
            "dtypes: float64(7), int64(31), object(43)\n",
            "memory usage: 923.4+ KB\n"
          ]
        }
      ]
    },
    {
      "cell_type": "markdown",
      "metadata": {
        "id": "xbDx7_Qqwu4P"
      },
      "source": [
        "Build a Base Model"
      ]
    },
    {
      "cell_type": "markdown",
      "metadata": {
        "id": "dp0CjGNox8Ag"
      },
      "source": [
        "Seperate the columns based on data type"
      ]
    },
    {
      "cell_type": "code",
      "metadata": {
        "id": "HMxYHzGzwTA1"
      },
      "source": [
        "category_columns = file1.columns[file1.dtypes=='object']\n",
        "\n",
        "numeric_columns = file1.columns[file1.dtypes!='object']"
      ],
      "execution_count": null,
      "outputs": []
    },
    {
      "cell_type": "markdown",
      "metadata": {
        "id": "ZfgV1mYtyAis"
      },
      "source": [
        "Build the data"
      ]
    },
    {
      "cell_type": "code",
      "metadata": {
        "id": "T3dazX7-xJDs"
      },
      "source": [
        "category_data = file1[category_columns]  #Category data"
      ],
      "execution_count": null,
      "outputs": []
    },
    {
      "cell_type": "code",
      "metadata": {
        "colab": {
          "base_uri": "https://localhost:8080/",
          "height": 226
        },
        "id": "KsVUwO6Sxodd",
        "outputId": "0bf10fd5-7222-4003-9e65-a88b5d9ebaf8"
      },
      "source": [
        "category_data.head()"
      ],
      "execution_count": null,
      "outputs": [
        {
          "output_type": "execute_result",
          "data": {
            "text/html": [
              "<div>\n",
              "<style scoped>\n",
              "    .dataframe tbody tr th:only-of-type {\n",
              "        vertical-align: middle;\n",
              "    }\n",
              "\n",
              "    .dataframe tbody tr th {\n",
              "        vertical-align: top;\n",
              "    }\n",
              "\n",
              "    .dataframe thead th {\n",
              "        text-align: right;\n",
              "    }\n",
              "</style>\n",
              "<table border=\"1\" class=\"dataframe\">\n",
              "  <thead>\n",
              "    <tr style=\"text-align: right;\">\n",
              "      <th></th>\n",
              "      <th>Zoning_Class</th>\n",
              "      <th>Road_Type</th>\n",
              "      <th>Lane_Type</th>\n",
              "      <th>Property_Shape</th>\n",
              "      <th>Land_Outline</th>\n",
              "      <th>Utility_Type</th>\n",
              "      <th>Lot_Configuration</th>\n",
              "      <th>Property_Slope</th>\n",
              "      <th>Neighborhood</th>\n",
              "      <th>Condition1</th>\n",
              "      <th>Condition2</th>\n",
              "      <th>House_Type</th>\n",
              "      <th>House_Design</th>\n",
              "      <th>Roof_Design</th>\n",
              "      <th>Roof_Quality</th>\n",
              "      <th>Exterior1st</th>\n",
              "      <th>Exterior2nd</th>\n",
              "      <th>Brick_Veneer_Type</th>\n",
              "      <th>Exterior_Material</th>\n",
              "      <th>Exterior_Condition</th>\n",
              "      <th>Foundation_Type</th>\n",
              "      <th>Basement_Height</th>\n",
              "      <th>Basement_Condition</th>\n",
              "      <th>Exposure_Level</th>\n",
              "      <th>BsmtFinType1</th>\n",
              "      <th>BsmtFinType2</th>\n",
              "      <th>Heating_Type</th>\n",
              "      <th>Heating_Quality</th>\n",
              "      <th>Air_Conditioning</th>\n",
              "      <th>Electrical_System</th>\n",
              "      <th>Kitchen_Quality</th>\n",
              "      <th>Functional_Rate</th>\n",
              "      <th>Fireplace_Quality</th>\n",
              "      <th>Garage</th>\n",
              "      <th>Garage_Finish_Year</th>\n",
              "      <th>Garage_Quality</th>\n",
              "      <th>Garage_Condition</th>\n",
              "      <th>Pavedd_Drive</th>\n",
              "      <th>Pool_Quality</th>\n",
              "      <th>Fence_Quality</th>\n",
              "      <th>Miscellaneous_Feature</th>\n",
              "      <th>Sale_Type</th>\n",
              "      <th>Sale_Condition</th>\n",
              "    </tr>\n",
              "  </thead>\n",
              "  <tbody>\n",
              "    <tr>\n",
              "      <th>0</th>\n",
              "      <td>RLD</td>\n",
              "      <td>Paved</td>\n",
              "      <td>NaN</td>\n",
              "      <td>Reg</td>\n",
              "      <td>Lvl</td>\n",
              "      <td>AllPub</td>\n",
              "      <td>I</td>\n",
              "      <td>GS</td>\n",
              "      <td>CollgCr</td>\n",
              "      <td>Norm</td>\n",
              "      <td>Norm</td>\n",
              "      <td>1Fam</td>\n",
              "      <td>2Story</td>\n",
              "      <td>Gable</td>\n",
              "      <td>SS</td>\n",
              "      <td>VinylSd</td>\n",
              "      <td>VinylSd</td>\n",
              "      <td>BrkFace</td>\n",
              "      <td>Gd</td>\n",
              "      <td>TA</td>\n",
              "      <td>PC</td>\n",
              "      <td>Gd</td>\n",
              "      <td>TA</td>\n",
              "      <td>No</td>\n",
              "      <td>GLQ</td>\n",
              "      <td>Unf</td>\n",
              "      <td>GasA</td>\n",
              "      <td>Ex</td>\n",
              "      <td>Y</td>\n",
              "      <td>SBrkr</td>\n",
              "      <td>Gd</td>\n",
              "      <td>TF</td>\n",
              "      <td>NaN</td>\n",
              "      <td>Attchd</td>\n",
              "      <td>RFn</td>\n",
              "      <td>TA</td>\n",
              "      <td>TA</td>\n",
              "      <td>Y</td>\n",
              "      <td>NaN</td>\n",
              "      <td>NaN</td>\n",
              "      <td>NaN</td>\n",
              "      <td>WD</td>\n",
              "      <td>Normal</td>\n",
              "    </tr>\n",
              "    <tr>\n",
              "      <th>1</th>\n",
              "      <td>RLD</td>\n",
              "      <td>Paved</td>\n",
              "      <td>NaN</td>\n",
              "      <td>Reg</td>\n",
              "      <td>Lvl</td>\n",
              "      <td>AllPub</td>\n",
              "      <td>FR2P</td>\n",
              "      <td>GS</td>\n",
              "      <td>Veenker</td>\n",
              "      <td>Feedr</td>\n",
              "      <td>Norm</td>\n",
              "      <td>1Fam</td>\n",
              "      <td>1Story</td>\n",
              "      <td>Gable</td>\n",
              "      <td>SS</td>\n",
              "      <td>MetalSd</td>\n",
              "      <td>MetalSd</td>\n",
              "      <td>None</td>\n",
              "      <td>TA</td>\n",
              "      <td>TA</td>\n",
              "      <td>CB</td>\n",
              "      <td>Gd</td>\n",
              "      <td>TA</td>\n",
              "      <td>Gd</td>\n",
              "      <td>ALQ</td>\n",
              "      <td>Unf</td>\n",
              "      <td>GasA</td>\n",
              "      <td>Ex</td>\n",
              "      <td>Y</td>\n",
              "      <td>SBrkr</td>\n",
              "      <td>TA</td>\n",
              "      <td>TF</td>\n",
              "      <td>TA</td>\n",
              "      <td>Attchd</td>\n",
              "      <td>RFn</td>\n",
              "      <td>TA</td>\n",
              "      <td>TA</td>\n",
              "      <td>Y</td>\n",
              "      <td>NaN</td>\n",
              "      <td>NaN</td>\n",
              "      <td>NaN</td>\n",
              "      <td>WD</td>\n",
              "      <td>Normal</td>\n",
              "    </tr>\n",
              "    <tr>\n",
              "      <th>2</th>\n",
              "      <td>RLD</td>\n",
              "      <td>Paved</td>\n",
              "      <td>NaN</td>\n",
              "      <td>IR1</td>\n",
              "      <td>Lvl</td>\n",
              "      <td>AllPub</td>\n",
              "      <td>I</td>\n",
              "      <td>GS</td>\n",
              "      <td>CollgCr</td>\n",
              "      <td>Norm</td>\n",
              "      <td>Norm</td>\n",
              "      <td>1Fam</td>\n",
              "      <td>2Story</td>\n",
              "      <td>Gable</td>\n",
              "      <td>SS</td>\n",
              "      <td>VinylSd</td>\n",
              "      <td>VinylSd</td>\n",
              "      <td>BrkFace</td>\n",
              "      <td>Gd</td>\n",
              "      <td>TA</td>\n",
              "      <td>PC</td>\n",
              "      <td>Gd</td>\n",
              "      <td>TA</td>\n",
              "      <td>Mn</td>\n",
              "      <td>GLQ</td>\n",
              "      <td>Unf</td>\n",
              "      <td>GasA</td>\n",
              "      <td>Ex</td>\n",
              "      <td>Y</td>\n",
              "      <td>SBrkr</td>\n",
              "      <td>Gd</td>\n",
              "      <td>TF</td>\n",
              "      <td>TA</td>\n",
              "      <td>Attchd</td>\n",
              "      <td>RFn</td>\n",
              "      <td>TA</td>\n",
              "      <td>TA</td>\n",
              "      <td>Y</td>\n",
              "      <td>NaN</td>\n",
              "      <td>NaN</td>\n",
              "      <td>NaN</td>\n",
              "      <td>WD</td>\n",
              "      <td>Normal</td>\n",
              "    </tr>\n",
              "    <tr>\n",
              "      <th>3</th>\n",
              "      <td>RLD</td>\n",
              "      <td>Paved</td>\n",
              "      <td>NaN</td>\n",
              "      <td>IR1</td>\n",
              "      <td>Lvl</td>\n",
              "      <td>AllPub</td>\n",
              "      <td>C</td>\n",
              "      <td>GS</td>\n",
              "      <td>Crawfor</td>\n",
              "      <td>Norm</td>\n",
              "      <td>Norm</td>\n",
              "      <td>1Fam</td>\n",
              "      <td>2Story</td>\n",
              "      <td>Gable</td>\n",
              "      <td>SS</td>\n",
              "      <td>Wd Sdng</td>\n",
              "      <td>Wd Shng</td>\n",
              "      <td>None</td>\n",
              "      <td>TA</td>\n",
              "      <td>TA</td>\n",
              "      <td>BT</td>\n",
              "      <td>TA</td>\n",
              "      <td>Gd</td>\n",
              "      <td>No</td>\n",
              "      <td>ALQ</td>\n",
              "      <td>Unf</td>\n",
              "      <td>GasA</td>\n",
              "      <td>Gd</td>\n",
              "      <td>Y</td>\n",
              "      <td>SBrkr</td>\n",
              "      <td>Gd</td>\n",
              "      <td>TF</td>\n",
              "      <td>Gd</td>\n",
              "      <td>Detchd</td>\n",
              "      <td>Unf</td>\n",
              "      <td>TA</td>\n",
              "      <td>TA</td>\n",
              "      <td>Y</td>\n",
              "      <td>NaN</td>\n",
              "      <td>NaN</td>\n",
              "      <td>NaN</td>\n",
              "      <td>WD</td>\n",
              "      <td>Abnorml</td>\n",
              "    </tr>\n",
              "    <tr>\n",
              "      <th>4</th>\n",
              "      <td>RLD</td>\n",
              "      <td>Paved</td>\n",
              "      <td>NaN</td>\n",
              "      <td>IR1</td>\n",
              "      <td>Lvl</td>\n",
              "      <td>AllPub</td>\n",
              "      <td>FR2P</td>\n",
              "      <td>GS</td>\n",
              "      <td>NoRidge</td>\n",
              "      <td>Norm</td>\n",
              "      <td>Norm</td>\n",
              "      <td>1Fam</td>\n",
              "      <td>2Story</td>\n",
              "      <td>Gable</td>\n",
              "      <td>SS</td>\n",
              "      <td>VinylSd</td>\n",
              "      <td>VinylSd</td>\n",
              "      <td>BrkFace</td>\n",
              "      <td>Gd</td>\n",
              "      <td>TA</td>\n",
              "      <td>PC</td>\n",
              "      <td>Gd</td>\n",
              "      <td>TA</td>\n",
              "      <td>Av</td>\n",
              "      <td>GLQ</td>\n",
              "      <td>Unf</td>\n",
              "      <td>GasA</td>\n",
              "      <td>Ex</td>\n",
              "      <td>Y</td>\n",
              "      <td>SBrkr</td>\n",
              "      <td>Gd</td>\n",
              "      <td>TF</td>\n",
              "      <td>TA</td>\n",
              "      <td>Attchd</td>\n",
              "      <td>RFn</td>\n",
              "      <td>TA</td>\n",
              "      <td>TA</td>\n",
              "      <td>Y</td>\n",
              "      <td>NaN</td>\n",
              "      <td>NaN</td>\n",
              "      <td>NaN</td>\n",
              "      <td>WD</td>\n",
              "      <td>Normal</td>\n",
              "    </tr>\n",
              "  </tbody>\n",
              "</table>\n",
              "</div>"
            ],
            "text/plain": [
              "  Zoning_Class Road_Type  ... Sale_Type Sale_Condition\n",
              "0          RLD     Paved  ...        WD         Normal\n",
              "1          RLD     Paved  ...        WD         Normal\n",
              "2          RLD     Paved  ...        WD         Normal\n",
              "3          RLD     Paved  ...        WD        Abnorml\n",
              "4          RLD     Paved  ...        WD         Normal\n",
              "\n",
              "[5 rows x 43 columns]"
            ]
          },
          "metadata": {},
          "execution_count": 127
        }
      ]
    },
    {
      "cell_type": "code",
      "metadata": {
        "id": "fOM0Xz7-xhRP"
      },
      "source": [
        "numeric_data = file1[numeric_columns] #Numeric data"
      ],
      "execution_count": null,
      "outputs": []
    },
    {
      "cell_type": "code",
      "metadata": {
        "colab": {
          "base_uri": "https://localhost:8080/",
          "height": 226
        },
        "id": "vwGq86e5xvIA",
        "outputId": "6347fa56-28ee-46ce-bf55-fb0742f9fc99"
      },
      "source": [
        "numeric_data.head()"
      ],
      "execution_count": null,
      "outputs": [
        {
          "output_type": "execute_result",
          "data": {
            "text/html": [
              "<div>\n",
              "<style scoped>\n",
              "    .dataframe tbody tr th:only-of-type {\n",
              "        vertical-align: middle;\n",
              "    }\n",
              "\n",
              "    .dataframe tbody tr th {\n",
              "        vertical-align: top;\n",
              "    }\n",
              "\n",
              "    .dataframe thead th {\n",
              "        text-align: right;\n",
              "    }\n",
              "</style>\n",
              "<table border=\"1\" class=\"dataframe\">\n",
              "  <thead>\n",
              "    <tr style=\"text-align: right;\">\n",
              "      <th></th>\n",
              "      <th>Id</th>\n",
              "      <th>Building_Class</th>\n",
              "      <th>Lot_Extent</th>\n",
              "      <th>Lot_Size</th>\n",
              "      <th>Overall_Material</th>\n",
              "      <th>House_Condition</th>\n",
              "      <th>Construction_Year</th>\n",
              "      <th>Remodel_Year</th>\n",
              "      <th>Brick_Veneer_Area</th>\n",
              "      <th>BsmtFinSF1</th>\n",
              "      <th>BsmtFinSF2</th>\n",
              "      <th>BsmtUnfSF</th>\n",
              "      <th>Total_Basement_Area</th>\n",
              "      <th>First_Floor_Area</th>\n",
              "      <th>Second_Floor_Area</th>\n",
              "      <th>LowQualFinSF</th>\n",
              "      <th>Grade_Living_Area</th>\n",
              "      <th>Underground_Full_Bathroom</th>\n",
              "      <th>Underground_Half_Bathroom</th>\n",
              "      <th>Full_Bathroom_Above_Grade</th>\n",
              "      <th>Half_Bathroom_Above_Grade</th>\n",
              "      <th>Bedroom_Above_Grade</th>\n",
              "      <th>Kitchen_Above_Grade</th>\n",
              "      <th>Rooms_Above_Grade</th>\n",
              "      <th>Fireplaces</th>\n",
              "      <th>Garage_Built_Year</th>\n",
              "      <th>Garage_Size</th>\n",
              "      <th>Garage_Area</th>\n",
              "      <th>W_Deck_Area</th>\n",
              "      <th>Open_Lobby_Area</th>\n",
              "      <th>Enclosed_Lobby_Area</th>\n",
              "      <th>Three_Season_Lobby_Area</th>\n",
              "      <th>Screen_Lobby_Area</th>\n",
              "      <th>Pool_Area</th>\n",
              "      <th>Miscellaneous_Value</th>\n",
              "      <th>Month_Sold</th>\n",
              "      <th>Year_Sold</th>\n",
              "      <th>Sale_Price</th>\n",
              "    </tr>\n",
              "  </thead>\n",
              "  <tbody>\n",
              "    <tr>\n",
              "      <th>0</th>\n",
              "      <td>1</td>\n",
              "      <td>60</td>\n",
              "      <td>65.0</td>\n",
              "      <td>8450</td>\n",
              "      <td>7</td>\n",
              "      <td>5</td>\n",
              "      <td>2003</td>\n",
              "      <td>2003</td>\n",
              "      <td>196.0</td>\n",
              "      <td>706</td>\n",
              "      <td>0</td>\n",
              "      <td>150</td>\n",
              "      <td>856</td>\n",
              "      <td>856</td>\n",
              "      <td>854</td>\n",
              "      <td>0</td>\n",
              "      <td>1710</td>\n",
              "      <td>1</td>\n",
              "      <td>0</td>\n",
              "      <td>2</td>\n",
              "      <td>1</td>\n",
              "      <td>3</td>\n",
              "      <td>1</td>\n",
              "      <td>8</td>\n",
              "      <td>0</td>\n",
              "      <td>2003.0</td>\n",
              "      <td>2</td>\n",
              "      <td>1085.793744</td>\n",
              "      <td>163.788080</td>\n",
              "      <td>69.596115</td>\n",
              "      <td>20.337934</td>\n",
              "      <td>0</td>\n",
              "      <td>0</td>\n",
              "      <td>0</td>\n",
              "      <td>0</td>\n",
              "      <td>2</td>\n",
              "      <td>2008</td>\n",
              "      <td>208500</td>\n",
              "    </tr>\n",
              "    <tr>\n",
              "      <th>1</th>\n",
              "      <td>2</td>\n",
              "      <td>20</td>\n",
              "      <td>80.0</td>\n",
              "      <td>9600</td>\n",
              "      <td>6</td>\n",
              "      <td>8</td>\n",
              "      <td>1976</td>\n",
              "      <td>1976</td>\n",
              "      <td>0.0</td>\n",
              "      <td>978</td>\n",
              "      <td>0</td>\n",
              "      <td>284</td>\n",
              "      <td>1262</td>\n",
              "      <td>1262</td>\n",
              "      <td>0</td>\n",
              "      <td>0</td>\n",
              "      <td>1262</td>\n",
              "      <td>0</td>\n",
              "      <td>1</td>\n",
              "      <td>2</td>\n",
              "      <td>0</td>\n",
              "      <td>3</td>\n",
              "      <td>1</td>\n",
              "      <td>6</td>\n",
              "      <td>1</td>\n",
              "      <td>1976.0</td>\n",
              "      <td>2</td>\n",
              "      <td>196.316304</td>\n",
              "      <td>198.900074</td>\n",
              "      <td>74.716033</td>\n",
              "      <td>15.039392</td>\n",
              "      <td>0</td>\n",
              "      <td>0</td>\n",
              "      <td>0</td>\n",
              "      <td>0</td>\n",
              "      <td>5</td>\n",
              "      <td>2007</td>\n",
              "      <td>181500</td>\n",
              "    </tr>\n",
              "    <tr>\n",
              "      <th>2</th>\n",
              "      <td>3</td>\n",
              "      <td>60</td>\n",
              "      <td>68.0</td>\n",
              "      <td>11250</td>\n",
              "      <td>7</td>\n",
              "      <td>5</td>\n",
              "      <td>2001</td>\n",
              "      <td>2002</td>\n",
              "      <td>162.0</td>\n",
              "      <td>486</td>\n",
              "      <td>0</td>\n",
              "      <td>434</td>\n",
              "      <td>920</td>\n",
              "      <td>920</td>\n",
              "      <td>866</td>\n",
              "      <td>0</td>\n",
              "      <td>1786</td>\n",
              "      <td>1</td>\n",
              "      <td>0</td>\n",
              "      <td>2</td>\n",
              "      <td>1</td>\n",
              "      <td>3</td>\n",
              "      <td>1</td>\n",
              "      <td>6</td>\n",
              "      <td>1</td>\n",
              "      <td>2001.0</td>\n",
              "      <td>2</td>\n",
              "      <td>218.068403</td>\n",
              "      <td>26.127533</td>\n",
              "      <td>32.085268</td>\n",
              "      <td>-46.232198</td>\n",
              "      <td>0</td>\n",
              "      <td>0</td>\n",
              "      <td>0</td>\n",
              "      <td>0</td>\n",
              "      <td>9</td>\n",
              "      <td>2008</td>\n",
              "      <td>223500</td>\n",
              "    </tr>\n",
              "    <tr>\n",
              "      <th>3</th>\n",
              "      <td>4</td>\n",
              "      <td>70</td>\n",
              "      <td>60.0</td>\n",
              "      <td>9550</td>\n",
              "      <td>7</td>\n",
              "      <td>5</td>\n",
              "      <td>1915</td>\n",
              "      <td>1970</td>\n",
              "      <td>0.0</td>\n",
              "      <td>216</td>\n",
              "      <td>0</td>\n",
              "      <td>540</td>\n",
              "      <td>756</td>\n",
              "      <td>961</td>\n",
              "      <td>756</td>\n",
              "      <td>0</td>\n",
              "      <td>1717</td>\n",
              "      <td>1</td>\n",
              "      <td>0</td>\n",
              "      <td>1</td>\n",
              "      <td>0</td>\n",
              "      <td>3</td>\n",
              "      <td>1</td>\n",
              "      <td>7</td>\n",
              "      <td>1</td>\n",
              "      <td>1998.0</td>\n",
              "      <td>3</td>\n",
              "      <td>696.996439</td>\n",
              "      <td>46.948018</td>\n",
              "      <td>40.181415</td>\n",
              "      <td>60.921821</td>\n",
              "      <td>0</td>\n",
              "      <td>0</td>\n",
              "      <td>0</td>\n",
              "      <td>0</td>\n",
              "      <td>2</td>\n",
              "      <td>2006</td>\n",
              "      <td>140000</td>\n",
              "    </tr>\n",
              "    <tr>\n",
              "      <th>4</th>\n",
              "      <td>5</td>\n",
              "      <td>60</td>\n",
              "      <td>84.0</td>\n",
              "      <td>14260</td>\n",
              "      <td>8</td>\n",
              "      <td>5</td>\n",
              "      <td>2000</td>\n",
              "      <td>2000</td>\n",
              "      <td>350.0</td>\n",
              "      <td>655</td>\n",
              "      <td>0</td>\n",
              "      <td>490</td>\n",
              "      <td>1145</td>\n",
              "      <td>1145</td>\n",
              "      <td>1053</td>\n",
              "      <td>0</td>\n",
              "      <td>2198</td>\n",
              "      <td>1</td>\n",
              "      <td>0</td>\n",
              "      <td>2</td>\n",
              "      <td>1</td>\n",
              "      <td>4</td>\n",
              "      <td>1</td>\n",
              "      <td>9</td>\n",
              "      <td>1</td>\n",
              "      <td>2000.0</td>\n",
              "      <td>3</td>\n",
              "      <td>568.859882</td>\n",
              "      <td>-10.626105</td>\n",
              "      <td>20.755323</td>\n",
              "      <td>21.788818</td>\n",
              "      <td>0</td>\n",
              "      <td>0</td>\n",
              "      <td>0</td>\n",
              "      <td>0</td>\n",
              "      <td>12</td>\n",
              "      <td>2008</td>\n",
              "      <td>250000</td>\n",
              "    </tr>\n",
              "  </tbody>\n",
              "</table>\n",
              "</div>"
            ],
            "text/plain": [
              "   Id  Building_Class  Lot_Extent  ...  Month_Sold  Year_Sold  Sale_Price\n",
              "0   1              60        65.0  ...           2       2008      208500\n",
              "1   2              20        80.0  ...           5       2007      181500\n",
              "2   3              60        68.0  ...           9       2008      223500\n",
              "3   4              70        60.0  ...           2       2006      140000\n",
              "4   5              60        84.0  ...          12       2008      250000\n",
              "\n",
              "[5 rows x 38 columns]"
            ]
          },
          "metadata": {},
          "execution_count": 129
        }
      ]
    },
    {
      "cell_type": "code",
      "metadata": {
        "id": "VWrk9HysxneF"
      },
      "source": [
        "data = numeric_data"
      ],
      "execution_count": null,
      "outputs": []
    },
    {
      "cell_type": "code",
      "metadata": {
        "colab": {
          "base_uri": "https://localhost:8080/",
          "height": 226
        },
        "id": "99hLCRmqyNu8",
        "outputId": "2c2d0059-9497-4e07-8d70-c517101f9112"
      },
      "source": [
        "data.head()"
      ],
      "execution_count": null,
      "outputs": [
        {
          "output_type": "execute_result",
          "data": {
            "text/html": [
              "<div>\n",
              "<style scoped>\n",
              "    .dataframe tbody tr th:only-of-type {\n",
              "        vertical-align: middle;\n",
              "    }\n",
              "\n",
              "    .dataframe tbody tr th {\n",
              "        vertical-align: top;\n",
              "    }\n",
              "\n",
              "    .dataframe thead th {\n",
              "        text-align: right;\n",
              "    }\n",
              "</style>\n",
              "<table border=\"1\" class=\"dataframe\">\n",
              "  <thead>\n",
              "    <tr style=\"text-align: right;\">\n",
              "      <th></th>\n",
              "      <th>Id</th>\n",
              "      <th>Building_Class</th>\n",
              "      <th>Lot_Extent</th>\n",
              "      <th>Lot_Size</th>\n",
              "      <th>Overall_Material</th>\n",
              "      <th>House_Condition</th>\n",
              "      <th>Construction_Year</th>\n",
              "      <th>Remodel_Year</th>\n",
              "      <th>Brick_Veneer_Area</th>\n",
              "      <th>BsmtFinSF1</th>\n",
              "      <th>BsmtFinSF2</th>\n",
              "      <th>BsmtUnfSF</th>\n",
              "      <th>Total_Basement_Area</th>\n",
              "      <th>First_Floor_Area</th>\n",
              "      <th>Second_Floor_Area</th>\n",
              "      <th>LowQualFinSF</th>\n",
              "      <th>Grade_Living_Area</th>\n",
              "      <th>Underground_Full_Bathroom</th>\n",
              "      <th>Underground_Half_Bathroom</th>\n",
              "      <th>Full_Bathroom_Above_Grade</th>\n",
              "      <th>Half_Bathroom_Above_Grade</th>\n",
              "      <th>Bedroom_Above_Grade</th>\n",
              "      <th>Kitchen_Above_Grade</th>\n",
              "      <th>Rooms_Above_Grade</th>\n",
              "      <th>Fireplaces</th>\n",
              "      <th>Garage_Built_Year</th>\n",
              "      <th>Garage_Size</th>\n",
              "      <th>Garage_Area</th>\n",
              "      <th>W_Deck_Area</th>\n",
              "      <th>Open_Lobby_Area</th>\n",
              "      <th>Enclosed_Lobby_Area</th>\n",
              "      <th>Three_Season_Lobby_Area</th>\n",
              "      <th>Screen_Lobby_Area</th>\n",
              "      <th>Pool_Area</th>\n",
              "      <th>Miscellaneous_Value</th>\n",
              "      <th>Month_Sold</th>\n",
              "      <th>Year_Sold</th>\n",
              "      <th>Sale_Price</th>\n",
              "    </tr>\n",
              "  </thead>\n",
              "  <tbody>\n",
              "    <tr>\n",
              "      <th>0</th>\n",
              "      <td>1</td>\n",
              "      <td>60</td>\n",
              "      <td>65.0</td>\n",
              "      <td>8450</td>\n",
              "      <td>7</td>\n",
              "      <td>5</td>\n",
              "      <td>2003</td>\n",
              "      <td>2003</td>\n",
              "      <td>196.0</td>\n",
              "      <td>706</td>\n",
              "      <td>0</td>\n",
              "      <td>150</td>\n",
              "      <td>856</td>\n",
              "      <td>856</td>\n",
              "      <td>854</td>\n",
              "      <td>0</td>\n",
              "      <td>1710</td>\n",
              "      <td>1</td>\n",
              "      <td>0</td>\n",
              "      <td>2</td>\n",
              "      <td>1</td>\n",
              "      <td>3</td>\n",
              "      <td>1</td>\n",
              "      <td>8</td>\n",
              "      <td>0</td>\n",
              "      <td>2003.0</td>\n",
              "      <td>2</td>\n",
              "      <td>1085.793744</td>\n",
              "      <td>163.788080</td>\n",
              "      <td>69.596115</td>\n",
              "      <td>20.337934</td>\n",
              "      <td>0</td>\n",
              "      <td>0</td>\n",
              "      <td>0</td>\n",
              "      <td>0</td>\n",
              "      <td>2</td>\n",
              "      <td>2008</td>\n",
              "      <td>208500</td>\n",
              "    </tr>\n",
              "    <tr>\n",
              "      <th>1</th>\n",
              "      <td>2</td>\n",
              "      <td>20</td>\n",
              "      <td>80.0</td>\n",
              "      <td>9600</td>\n",
              "      <td>6</td>\n",
              "      <td>8</td>\n",
              "      <td>1976</td>\n",
              "      <td>1976</td>\n",
              "      <td>0.0</td>\n",
              "      <td>978</td>\n",
              "      <td>0</td>\n",
              "      <td>284</td>\n",
              "      <td>1262</td>\n",
              "      <td>1262</td>\n",
              "      <td>0</td>\n",
              "      <td>0</td>\n",
              "      <td>1262</td>\n",
              "      <td>0</td>\n",
              "      <td>1</td>\n",
              "      <td>2</td>\n",
              "      <td>0</td>\n",
              "      <td>3</td>\n",
              "      <td>1</td>\n",
              "      <td>6</td>\n",
              "      <td>1</td>\n",
              "      <td>1976.0</td>\n",
              "      <td>2</td>\n",
              "      <td>196.316304</td>\n",
              "      <td>198.900074</td>\n",
              "      <td>74.716033</td>\n",
              "      <td>15.039392</td>\n",
              "      <td>0</td>\n",
              "      <td>0</td>\n",
              "      <td>0</td>\n",
              "      <td>0</td>\n",
              "      <td>5</td>\n",
              "      <td>2007</td>\n",
              "      <td>181500</td>\n",
              "    </tr>\n",
              "    <tr>\n",
              "      <th>2</th>\n",
              "      <td>3</td>\n",
              "      <td>60</td>\n",
              "      <td>68.0</td>\n",
              "      <td>11250</td>\n",
              "      <td>7</td>\n",
              "      <td>5</td>\n",
              "      <td>2001</td>\n",
              "      <td>2002</td>\n",
              "      <td>162.0</td>\n",
              "      <td>486</td>\n",
              "      <td>0</td>\n",
              "      <td>434</td>\n",
              "      <td>920</td>\n",
              "      <td>920</td>\n",
              "      <td>866</td>\n",
              "      <td>0</td>\n",
              "      <td>1786</td>\n",
              "      <td>1</td>\n",
              "      <td>0</td>\n",
              "      <td>2</td>\n",
              "      <td>1</td>\n",
              "      <td>3</td>\n",
              "      <td>1</td>\n",
              "      <td>6</td>\n",
              "      <td>1</td>\n",
              "      <td>2001.0</td>\n",
              "      <td>2</td>\n",
              "      <td>218.068403</td>\n",
              "      <td>26.127533</td>\n",
              "      <td>32.085268</td>\n",
              "      <td>-46.232198</td>\n",
              "      <td>0</td>\n",
              "      <td>0</td>\n",
              "      <td>0</td>\n",
              "      <td>0</td>\n",
              "      <td>9</td>\n",
              "      <td>2008</td>\n",
              "      <td>223500</td>\n",
              "    </tr>\n",
              "    <tr>\n",
              "      <th>3</th>\n",
              "      <td>4</td>\n",
              "      <td>70</td>\n",
              "      <td>60.0</td>\n",
              "      <td>9550</td>\n",
              "      <td>7</td>\n",
              "      <td>5</td>\n",
              "      <td>1915</td>\n",
              "      <td>1970</td>\n",
              "      <td>0.0</td>\n",
              "      <td>216</td>\n",
              "      <td>0</td>\n",
              "      <td>540</td>\n",
              "      <td>756</td>\n",
              "      <td>961</td>\n",
              "      <td>756</td>\n",
              "      <td>0</td>\n",
              "      <td>1717</td>\n",
              "      <td>1</td>\n",
              "      <td>0</td>\n",
              "      <td>1</td>\n",
              "      <td>0</td>\n",
              "      <td>3</td>\n",
              "      <td>1</td>\n",
              "      <td>7</td>\n",
              "      <td>1</td>\n",
              "      <td>1998.0</td>\n",
              "      <td>3</td>\n",
              "      <td>696.996439</td>\n",
              "      <td>46.948018</td>\n",
              "      <td>40.181415</td>\n",
              "      <td>60.921821</td>\n",
              "      <td>0</td>\n",
              "      <td>0</td>\n",
              "      <td>0</td>\n",
              "      <td>0</td>\n",
              "      <td>2</td>\n",
              "      <td>2006</td>\n",
              "      <td>140000</td>\n",
              "    </tr>\n",
              "    <tr>\n",
              "      <th>4</th>\n",
              "      <td>5</td>\n",
              "      <td>60</td>\n",
              "      <td>84.0</td>\n",
              "      <td>14260</td>\n",
              "      <td>8</td>\n",
              "      <td>5</td>\n",
              "      <td>2000</td>\n",
              "      <td>2000</td>\n",
              "      <td>350.0</td>\n",
              "      <td>655</td>\n",
              "      <td>0</td>\n",
              "      <td>490</td>\n",
              "      <td>1145</td>\n",
              "      <td>1145</td>\n",
              "      <td>1053</td>\n",
              "      <td>0</td>\n",
              "      <td>2198</td>\n",
              "      <td>1</td>\n",
              "      <td>0</td>\n",
              "      <td>2</td>\n",
              "      <td>1</td>\n",
              "      <td>4</td>\n",
              "      <td>1</td>\n",
              "      <td>9</td>\n",
              "      <td>1</td>\n",
              "      <td>2000.0</td>\n",
              "      <td>3</td>\n",
              "      <td>568.859882</td>\n",
              "      <td>-10.626105</td>\n",
              "      <td>20.755323</td>\n",
              "      <td>21.788818</td>\n",
              "      <td>0</td>\n",
              "      <td>0</td>\n",
              "      <td>0</td>\n",
              "      <td>0</td>\n",
              "      <td>12</td>\n",
              "      <td>2008</td>\n",
              "      <td>250000</td>\n",
              "    </tr>\n",
              "  </tbody>\n",
              "</table>\n",
              "</div>"
            ],
            "text/plain": [
              "   Id  Building_Class  Lot_Extent  ...  Month_Sold  Year_Sold  Sale_Price\n",
              "0   1              60        65.0  ...           2       2008      208500\n",
              "1   2              20        80.0  ...           5       2007      181500\n",
              "2   3              60        68.0  ...           9       2008      223500\n",
              "3   4              70        60.0  ...           2       2006      140000\n",
              "4   5              60        84.0  ...          12       2008      250000\n",
              "\n",
              "[5 rows x 38 columns]"
            ]
          },
          "metadata": {},
          "execution_count": 131
        }
      ]
    },
    {
      "cell_type": "code",
      "metadata": {
        "colab": {
          "base_uri": "https://localhost:8080/"
        },
        "id": "GdoNw_WcySn8",
        "outputId": "c60c232d-82e1-4e5b-d2c1-aeaf22868950"
      },
      "source": [
        "data.shape"
      ],
      "execution_count": null,
      "outputs": [
        {
          "output_type": "execute_result",
          "data": {
            "text/plain": [
              "(1459, 38)"
            ]
          },
          "metadata": {},
          "execution_count": 132
        }
      ]
    },
    {
      "cell_type": "code",
      "metadata": {
        "colab": {
          "base_uri": "https://localhost:8080/"
        },
        "id": "P13XLE1CyYjA",
        "outputId": "bbd33eba-43b4-4881-b930-2ce6cee40f2e"
      },
      "source": [
        "data.columns"
      ],
      "execution_count": null,
      "outputs": [
        {
          "output_type": "execute_result",
          "data": {
            "text/plain": [
              "Index(['Id', 'Building_Class', 'Lot_Extent', 'Lot_Size', 'Overall_Material',\n",
              "       'House_Condition', 'Construction_Year', 'Remodel_Year',\n",
              "       'Brick_Veneer_Area', 'BsmtFinSF1', 'BsmtFinSF2', 'BsmtUnfSF',\n",
              "       'Total_Basement_Area', 'First_Floor_Area', 'Second_Floor_Area',\n",
              "       'LowQualFinSF', 'Grade_Living_Area', 'Underground_Full_Bathroom',\n",
              "       'Underground_Half_Bathroom', 'Full_Bathroom_Above_Grade',\n",
              "       'Half_Bathroom_Above_Grade', 'Bedroom_Above_Grade',\n",
              "       'Kitchen_Above_Grade', 'Rooms_Above_Grade', 'Fireplaces',\n",
              "       'Garage_Built_Year', 'Garage_Size', 'Garage_Area', 'W_Deck_Area',\n",
              "       'Open_Lobby_Area', 'Enclosed_Lobby_Area', 'Three_Season_Lobby_Area',\n",
              "       'Screen_Lobby_Area', 'Pool_Area', 'Miscellaneous_Value', 'Month_Sold',\n",
              "       'Year_Sold', 'Sale_Price'],\n",
              "      dtype='object')"
            ]
          },
          "metadata": {},
          "execution_count": 133
        }
      ]
    },
    {
      "cell_type": "code",
      "metadata": {
        "id": "6KvevFi7yyvA"
      },
      "source": [
        "data1 = data.drop(columns=['Id'])"
      ],
      "execution_count": null,
      "outputs": []
    },
    {
      "cell_type": "code",
      "metadata": {
        "colab": {
          "base_uri": "https://localhost:8080/"
        },
        "id": "8yP1NJIQ3zhC",
        "outputId": "a99077f5-1cae-4487-fcb4-35bd36baf9a4"
      },
      "source": [
        "data1.isna().sum().sort_values(ascending=False)"
      ],
      "execution_count": null,
      "outputs": [
        {
          "output_type": "execute_result",
          "data": {
            "text/plain": [
              "Lot_Extent                   259\n",
              "Garage_Built_Year             81\n",
              "Brick_Veneer_Area              8\n",
              "Sale_Price                     0\n",
              "BsmtUnfSF                      0\n",
              "Grade_Living_Area              0\n",
              "LowQualFinSF                   0\n",
              "Second_Floor_Area              0\n",
              "First_Floor_Area               0\n",
              "Total_Basement_Area            0\n",
              "BsmtFinSF1                     0\n",
              "BsmtFinSF2                     0\n",
              "Underground_Half_Bathroom      0\n",
              "Remodel_Year                   0\n",
              "Construction_Year              0\n",
              "House_Condition                0\n",
              "Overall_Material               0\n",
              "Lot_Size                       0\n",
              "Underground_Full_Bathroom      0\n",
              "Full_Bathroom_Above_Grade      0\n",
              "Year_Sold                      0\n",
              "Open_Lobby_Area                0\n",
              "Month_Sold                     0\n",
              "Miscellaneous_Value            0\n",
              "Pool_Area                      0\n",
              "Screen_Lobby_Area              0\n",
              "Three_Season_Lobby_Area        0\n",
              "Enclosed_Lobby_Area            0\n",
              "W_Deck_Area                    0\n",
              "Half_Bathroom_Above_Grade      0\n",
              "Garage_Area                    0\n",
              "Garage_Size                    0\n",
              "Fireplaces                     0\n",
              "Rooms_Above_Grade              0\n",
              "Kitchen_Above_Grade            0\n",
              "Bedroom_Above_Grade            0\n",
              "Building_Class                 0\n",
              "dtype: int64"
            ]
          },
          "metadata": {},
          "execution_count": 135
        }
      ]
    },
    {
      "cell_type": "markdown",
      "metadata": {
        "id": "oYKYlZHZ47Rd"
      },
      "source": [
        "Replace the missing values"
      ]
    },
    {
      "cell_type": "code",
      "metadata": {
        "id": "kF3BTpTq4BJd"
      },
      "source": [
        "data1['Lot_Extent'].fillna(data1['Lot_Extent'].median(),inplace=True)\n",
        "\n",
        "data1['Garage_Built_Year'].fillna(data1['Garage_Built_Year'].median(),inplace=True)\n",
        "\n",
        "data1['Brick_Veneer_Area'].fillna(data1['Brick_Veneer_Area'].median(),inplace=True)         "
      ],
      "execution_count": null,
      "outputs": []
    },
    {
      "cell_type": "code",
      "metadata": {
        "colab": {
          "base_uri": "https://localhost:8080/"
        },
        "id": "BmnN5dOn4_Uu",
        "outputId": "6460b338-16d2-46d8-83f7-0daae6f006fb"
      },
      "source": [
        "data1.isna().sum().sort_values(ascending=False)"
      ],
      "execution_count": null,
      "outputs": [
        {
          "output_type": "execute_result",
          "data": {
            "text/plain": [
              "Sale_Price                   0\n",
              "Underground_Half_Bathroom    0\n",
              "Grade_Living_Area            0\n",
              "LowQualFinSF                 0\n",
              "Second_Floor_Area            0\n",
              "First_Floor_Area             0\n",
              "Total_Basement_Area          0\n",
              "BsmtUnfSF                    0\n",
              "BsmtFinSF2                   0\n",
              "BsmtFinSF1                   0\n",
              "Brick_Veneer_Area            0\n",
              "Remodel_Year                 0\n",
              "Construction_Year            0\n",
              "House_Condition              0\n",
              "Overall_Material             0\n",
              "Lot_Size                     0\n",
              "Lot_Extent                   0\n",
              "Underground_Full_Bathroom    0\n",
              "Full_Bathroom_Above_Grade    0\n",
              "Year_Sold                    0\n",
              "Half_Bathroom_Above_Grade    0\n",
              "Month_Sold                   0\n",
              "Miscellaneous_Value          0\n",
              "Pool_Area                    0\n",
              "Screen_Lobby_Area            0\n",
              "Three_Season_Lobby_Area      0\n",
              "Enclosed_Lobby_Area          0\n",
              "Open_Lobby_Area              0\n",
              "W_Deck_Area                  0\n",
              "Garage_Area                  0\n",
              "Garage_Size                  0\n",
              "Garage_Built_Year            0\n",
              "Fireplaces                   0\n",
              "Rooms_Above_Grade            0\n",
              "Kitchen_Above_Grade          0\n",
              "Bedroom_Above_Grade          0\n",
              "Building_Class               0\n",
              "dtype: int64"
            ]
          },
          "metadata": {},
          "execution_count": 137
        }
      ]
    },
    {
      "cell_type": "code",
      "metadata": {
        "colab": {
          "base_uri": "https://localhost:8080/",
          "height": 226
        },
        "id": "GQql8mrWzTt2",
        "outputId": "4b7d7308-fdd8-4b47-8a36-ea91e6d89076"
      },
      "source": [
        "data1.head()"
      ],
      "execution_count": null,
      "outputs": [
        {
          "output_type": "execute_result",
          "data": {
            "text/html": [
              "<div>\n",
              "<style scoped>\n",
              "    .dataframe tbody tr th:only-of-type {\n",
              "        vertical-align: middle;\n",
              "    }\n",
              "\n",
              "    .dataframe tbody tr th {\n",
              "        vertical-align: top;\n",
              "    }\n",
              "\n",
              "    .dataframe thead th {\n",
              "        text-align: right;\n",
              "    }\n",
              "</style>\n",
              "<table border=\"1\" class=\"dataframe\">\n",
              "  <thead>\n",
              "    <tr style=\"text-align: right;\">\n",
              "      <th></th>\n",
              "      <th>Building_Class</th>\n",
              "      <th>Lot_Extent</th>\n",
              "      <th>Lot_Size</th>\n",
              "      <th>Overall_Material</th>\n",
              "      <th>House_Condition</th>\n",
              "      <th>Construction_Year</th>\n",
              "      <th>Remodel_Year</th>\n",
              "      <th>Brick_Veneer_Area</th>\n",
              "      <th>BsmtFinSF1</th>\n",
              "      <th>BsmtFinSF2</th>\n",
              "      <th>BsmtUnfSF</th>\n",
              "      <th>Total_Basement_Area</th>\n",
              "      <th>First_Floor_Area</th>\n",
              "      <th>Second_Floor_Area</th>\n",
              "      <th>LowQualFinSF</th>\n",
              "      <th>Grade_Living_Area</th>\n",
              "      <th>Underground_Full_Bathroom</th>\n",
              "      <th>Underground_Half_Bathroom</th>\n",
              "      <th>Full_Bathroom_Above_Grade</th>\n",
              "      <th>Half_Bathroom_Above_Grade</th>\n",
              "      <th>Bedroom_Above_Grade</th>\n",
              "      <th>Kitchen_Above_Grade</th>\n",
              "      <th>Rooms_Above_Grade</th>\n",
              "      <th>Fireplaces</th>\n",
              "      <th>Garage_Built_Year</th>\n",
              "      <th>Garage_Size</th>\n",
              "      <th>Garage_Area</th>\n",
              "      <th>W_Deck_Area</th>\n",
              "      <th>Open_Lobby_Area</th>\n",
              "      <th>Enclosed_Lobby_Area</th>\n",
              "      <th>Three_Season_Lobby_Area</th>\n",
              "      <th>Screen_Lobby_Area</th>\n",
              "      <th>Pool_Area</th>\n",
              "      <th>Miscellaneous_Value</th>\n",
              "      <th>Month_Sold</th>\n",
              "      <th>Year_Sold</th>\n",
              "      <th>Sale_Price</th>\n",
              "    </tr>\n",
              "  </thead>\n",
              "  <tbody>\n",
              "    <tr>\n",
              "      <th>0</th>\n",
              "      <td>60</td>\n",
              "      <td>65.0</td>\n",
              "      <td>8450</td>\n",
              "      <td>7</td>\n",
              "      <td>5</td>\n",
              "      <td>2003</td>\n",
              "      <td>2003</td>\n",
              "      <td>196.0</td>\n",
              "      <td>706</td>\n",
              "      <td>0</td>\n",
              "      <td>150</td>\n",
              "      <td>856</td>\n",
              "      <td>856</td>\n",
              "      <td>854</td>\n",
              "      <td>0</td>\n",
              "      <td>1710</td>\n",
              "      <td>1</td>\n",
              "      <td>0</td>\n",
              "      <td>2</td>\n",
              "      <td>1</td>\n",
              "      <td>3</td>\n",
              "      <td>1</td>\n",
              "      <td>8</td>\n",
              "      <td>0</td>\n",
              "      <td>2003.0</td>\n",
              "      <td>2</td>\n",
              "      <td>1085.793744</td>\n",
              "      <td>163.788080</td>\n",
              "      <td>69.596115</td>\n",
              "      <td>20.337934</td>\n",
              "      <td>0</td>\n",
              "      <td>0</td>\n",
              "      <td>0</td>\n",
              "      <td>0</td>\n",
              "      <td>2</td>\n",
              "      <td>2008</td>\n",
              "      <td>208500</td>\n",
              "    </tr>\n",
              "    <tr>\n",
              "      <th>1</th>\n",
              "      <td>20</td>\n",
              "      <td>80.0</td>\n",
              "      <td>9600</td>\n",
              "      <td>6</td>\n",
              "      <td>8</td>\n",
              "      <td>1976</td>\n",
              "      <td>1976</td>\n",
              "      <td>0.0</td>\n",
              "      <td>978</td>\n",
              "      <td>0</td>\n",
              "      <td>284</td>\n",
              "      <td>1262</td>\n",
              "      <td>1262</td>\n",
              "      <td>0</td>\n",
              "      <td>0</td>\n",
              "      <td>1262</td>\n",
              "      <td>0</td>\n",
              "      <td>1</td>\n",
              "      <td>2</td>\n",
              "      <td>0</td>\n",
              "      <td>3</td>\n",
              "      <td>1</td>\n",
              "      <td>6</td>\n",
              "      <td>1</td>\n",
              "      <td>1976.0</td>\n",
              "      <td>2</td>\n",
              "      <td>196.316304</td>\n",
              "      <td>198.900074</td>\n",
              "      <td>74.716033</td>\n",
              "      <td>15.039392</td>\n",
              "      <td>0</td>\n",
              "      <td>0</td>\n",
              "      <td>0</td>\n",
              "      <td>0</td>\n",
              "      <td>5</td>\n",
              "      <td>2007</td>\n",
              "      <td>181500</td>\n",
              "    </tr>\n",
              "    <tr>\n",
              "      <th>2</th>\n",
              "      <td>60</td>\n",
              "      <td>68.0</td>\n",
              "      <td>11250</td>\n",
              "      <td>7</td>\n",
              "      <td>5</td>\n",
              "      <td>2001</td>\n",
              "      <td>2002</td>\n",
              "      <td>162.0</td>\n",
              "      <td>486</td>\n",
              "      <td>0</td>\n",
              "      <td>434</td>\n",
              "      <td>920</td>\n",
              "      <td>920</td>\n",
              "      <td>866</td>\n",
              "      <td>0</td>\n",
              "      <td>1786</td>\n",
              "      <td>1</td>\n",
              "      <td>0</td>\n",
              "      <td>2</td>\n",
              "      <td>1</td>\n",
              "      <td>3</td>\n",
              "      <td>1</td>\n",
              "      <td>6</td>\n",
              "      <td>1</td>\n",
              "      <td>2001.0</td>\n",
              "      <td>2</td>\n",
              "      <td>218.068403</td>\n",
              "      <td>26.127533</td>\n",
              "      <td>32.085268</td>\n",
              "      <td>-46.232198</td>\n",
              "      <td>0</td>\n",
              "      <td>0</td>\n",
              "      <td>0</td>\n",
              "      <td>0</td>\n",
              "      <td>9</td>\n",
              "      <td>2008</td>\n",
              "      <td>223500</td>\n",
              "    </tr>\n",
              "    <tr>\n",
              "      <th>3</th>\n",
              "      <td>70</td>\n",
              "      <td>60.0</td>\n",
              "      <td>9550</td>\n",
              "      <td>7</td>\n",
              "      <td>5</td>\n",
              "      <td>1915</td>\n",
              "      <td>1970</td>\n",
              "      <td>0.0</td>\n",
              "      <td>216</td>\n",
              "      <td>0</td>\n",
              "      <td>540</td>\n",
              "      <td>756</td>\n",
              "      <td>961</td>\n",
              "      <td>756</td>\n",
              "      <td>0</td>\n",
              "      <td>1717</td>\n",
              "      <td>1</td>\n",
              "      <td>0</td>\n",
              "      <td>1</td>\n",
              "      <td>0</td>\n",
              "      <td>3</td>\n",
              "      <td>1</td>\n",
              "      <td>7</td>\n",
              "      <td>1</td>\n",
              "      <td>1998.0</td>\n",
              "      <td>3</td>\n",
              "      <td>696.996439</td>\n",
              "      <td>46.948018</td>\n",
              "      <td>40.181415</td>\n",
              "      <td>60.921821</td>\n",
              "      <td>0</td>\n",
              "      <td>0</td>\n",
              "      <td>0</td>\n",
              "      <td>0</td>\n",
              "      <td>2</td>\n",
              "      <td>2006</td>\n",
              "      <td>140000</td>\n",
              "    </tr>\n",
              "    <tr>\n",
              "      <th>4</th>\n",
              "      <td>60</td>\n",
              "      <td>84.0</td>\n",
              "      <td>14260</td>\n",
              "      <td>8</td>\n",
              "      <td>5</td>\n",
              "      <td>2000</td>\n",
              "      <td>2000</td>\n",
              "      <td>350.0</td>\n",
              "      <td>655</td>\n",
              "      <td>0</td>\n",
              "      <td>490</td>\n",
              "      <td>1145</td>\n",
              "      <td>1145</td>\n",
              "      <td>1053</td>\n",
              "      <td>0</td>\n",
              "      <td>2198</td>\n",
              "      <td>1</td>\n",
              "      <td>0</td>\n",
              "      <td>2</td>\n",
              "      <td>1</td>\n",
              "      <td>4</td>\n",
              "      <td>1</td>\n",
              "      <td>9</td>\n",
              "      <td>1</td>\n",
              "      <td>2000.0</td>\n",
              "      <td>3</td>\n",
              "      <td>568.859882</td>\n",
              "      <td>-10.626105</td>\n",
              "      <td>20.755323</td>\n",
              "      <td>21.788818</td>\n",
              "      <td>0</td>\n",
              "      <td>0</td>\n",
              "      <td>0</td>\n",
              "      <td>0</td>\n",
              "      <td>12</td>\n",
              "      <td>2008</td>\n",
              "      <td>250000</td>\n",
              "    </tr>\n",
              "  </tbody>\n",
              "</table>\n",
              "</div>"
            ],
            "text/plain": [
              "   Building_Class  Lot_Extent  Lot_Size  ...  Month_Sold  Year_Sold  Sale_Price\n",
              "0              60        65.0      8450  ...           2       2008      208500\n",
              "1              20        80.0      9600  ...           5       2007      181500\n",
              "2              60        68.0     11250  ...           9       2008      223500\n",
              "3              70        60.0      9550  ...           2       2006      140000\n",
              "4              60        84.0     14260  ...          12       2008      250000\n",
              "\n",
              "[5 rows x 37 columns]"
            ]
          },
          "metadata": {},
          "execution_count": 138
        }
      ]
    },
    {
      "cell_type": "markdown",
      "metadata": {
        "id": "4OUEDJCd1RGC"
      },
      "source": [
        "Selecting features and target using loc method"
      ]
    },
    {
      "cell_type": "code",
      "metadata": {
        "id": "nsUB_PcdzV2G"
      },
      "source": [
        "X = data1.loc[:,['Building_Class', 'Lot_Extent', 'Lot_Size', \n",
        "                 'Overall_Material','House_Condition', 'Construction_Year', \n",
        "                 'Remodel_Year','Brick_Veneer_Area', 'BsmtFinSF1', 'BsmtFinSF2', \n",
        "                 'BsmtUnfSF','Total_Basement_Area', 'First_Floor_Area', \n",
        "                 'Second_Floor_Area','LowQualFinSF', 'Grade_Living_Area', \n",
        "                 'Underground_Full_Bathroom','Underground_Half_Bathroom', \n",
        "                 'Full_Bathroom_Above_Grade','Half_Bathroom_Above_Grade', \n",
        "                 'Bedroom_Above_Grade','Kitchen_Above_Grade', 'Rooms_Above_Grade', \n",
        "                 'Fireplaces','Garage_Built_Year', 'Garage_Size', 'Garage_Area', \n",
        "                 'W_Deck_Area','Open_Lobby_Area', 'Enclosed_Lobby_Area', \n",
        "                 'Three_Season_Lobby_Area','Screen_Lobby_Area', 'Pool_Area', \n",
        "                 'Miscellaneous_Value', 'Month_Sold','Year_Sold']]\n",
        "                 \n",
        "y= data1.loc[:,'Sale_Price']"
      ],
      "execution_count": null,
      "outputs": []
    },
    {
      "cell_type": "markdown",
      "metadata": {
        "id": "l3CsWcvl1WrB"
      },
      "source": [
        "Selecting columns based on iloc"
      ]
    },
    {
      "cell_type": "code",
      "metadata": {
        "id": "YVBjHdzI1HKb"
      },
      "source": [
        "X = data1.iloc[:,:-1]\n",
        "\n",
        "y = data1.iloc[:,-1]"
      ],
      "execution_count": null,
      "outputs": []
    },
    {
      "cell_type": "code",
      "metadata": {
        "id": "sIIpQvoS1rZr"
      },
      "source": [
        "import sklearn\n",
        "\n",
        "from sklearn.model_selection import train_test_split"
      ],
      "execution_count": null,
      "outputs": []
    },
    {
      "cell_type": "code",
      "metadata": {
        "id": "Dp2euofE10_Q"
      },
      "source": [
        "Xtrain,Xtest,ytrain,ytest = train_test_split(X,y,train_size=0.70,test_size=0.30)"
      ],
      "execution_count": null,
      "outputs": []
    },
    {
      "cell_type": "code",
      "metadata": {
        "colab": {
          "base_uri": "https://localhost:8080/"
        },
        "id": "wZZJ5pIl2P-W",
        "outputId": "a515cad4-d543-42c6-8f2b-03cdd293e1cc"
      },
      "source": [
        "print('Xtrain size is=',Xtrain.shape)\n",
        "print('Xtest size is=',Xtest.shape)\n",
        "print('ytrain size is=',ytrain.shape)\n",
        "print('ytest size is=',ytest.shape)"
      ],
      "execution_count": null,
      "outputs": [
        {
          "output_type": "stream",
          "name": "stdout",
          "text": [
            "Xtrain size is= (1021, 36)\n",
            "Xtest size is= (438, 36)\n",
            "ytrain size is= (1021,)\n",
            "ytest size is= (438,)\n"
          ]
        }
      ]
    },
    {
      "cell_type": "markdown",
      "metadata": {
        "id": "ikKVqEQV3LsJ"
      },
      "source": [
        "Build a multiple regression model"
      ]
    },
    {
      "cell_type": "code",
      "metadata": {
        "id": "1hsp-11T2lMa"
      },
      "source": [
        "from sklearn.linear_model import LinearRegression"
      ],
      "execution_count": null,
      "outputs": []
    },
    {
      "cell_type": "code",
      "metadata": {
        "id": "UoeNMaaH3VfT"
      },
      "source": [
        "model = LinearRegression()"
      ],
      "execution_count": null,
      "outputs": []
    },
    {
      "cell_type": "code",
      "metadata": {
        "colab": {
          "base_uri": "https://localhost:8080/"
        },
        "id": "lwE9ojh_3X2T",
        "outputId": "7e648bcc-c489-4213-e6ee-9cc312d3eaa0"
      },
      "source": [
        "model.fit(Xtrain,ytrain)"
      ],
      "execution_count": null,
      "outputs": [
        {
          "output_type": "execute_result",
          "data": {
            "text/plain": [
              "LinearRegression(copy_X=True, fit_intercept=True, n_jobs=None, normalize=False)"
            ]
          },
          "metadata": {},
          "execution_count": 146
        }
      ]
    },
    {
      "cell_type": "markdown",
      "metadata": {
        "id": "Fr-GnFZP5RxX"
      },
      "source": [
        "Check the results"
      ]
    },
    {
      "cell_type": "code",
      "metadata": {
        "colab": {
          "base_uri": "https://localhost:8080/"
        },
        "id": "kqM6xocU3dFW",
        "outputId": "f3a87ea6-9bbb-4737-b10d-9756dac2f861"
      },
      "source": [
        "model.intercept_"
      ],
      "execution_count": null,
      "outputs": [
        {
          "output_type": "execute_result",
          "data": {
            "text/plain": [
              "-185096.8419347981"
            ]
          },
          "metadata": {},
          "execution_count": 147
        }
      ]
    },
    {
      "cell_type": "code",
      "metadata": {
        "colab": {
          "base_uri": "https://localhost:8080/"
        },
        "id": "RFcOzsMC5WZu",
        "outputId": "45540650-b14a-4d22-b27c-94b40a0a8449"
      },
      "source": [
        "model.coef_"
      ],
      "execution_count": null,
      "outputs": [
        {
          "output_type": "execute_result",
          "data": {
            "text/plain": [
              "array([-1.75414141e+02, -1.18196285e+02,  4.16192960e-01,  1.78419653e+04,\n",
              "        6.08336608e+03,  3.46013947e+02,  9.40024042e+01,  3.33169592e+01,\n",
              "        4.75039950e+00, -5.60144963e-02,  2.55080740e+00,  7.24519241e+00,\n",
              "        1.76218379e+01,  2.18143227e+01, -7.55658125e+00,  3.18795793e+01,\n",
              "        1.37028520e+04,  2.86290584e+03,  2.80451033e+03, -4.49147877e+03,\n",
              "       -7.62868474e+03, -1.29712812e+04,  3.42591190e+03,  6.60112658e+03,\n",
              "        9.05691903e+01,  1.13846222e+04, -2.47171494e+00,  3.09626414e+00,\n",
              "        5.59131511e-01, -2.19639443e+00,  3.26619827e+01,  6.10235879e+01,\n",
              "       -2.17056899e-01, -2.04054718e-02,  2.51241591e+02, -4.60039245e+02])"
            ]
          },
          "metadata": {},
          "execution_count": 148
        }
      ]
    },
    {
      "cell_type": "code",
      "metadata": {
        "colab": {
          "base_uri": "https://localhost:8080/"
        },
        "id": "bag29e7t5aSX",
        "outputId": "2e31f0fd-bce2-4338-f524-2271b0da3f07"
      },
      "source": [
        "data1.columns"
      ],
      "execution_count": null,
      "outputs": [
        {
          "output_type": "execute_result",
          "data": {
            "text/plain": [
              "Index(['Building_Class', 'Lot_Extent', 'Lot_Size', 'Overall_Material',\n",
              "       'House_Condition', 'Construction_Year', 'Remodel_Year',\n",
              "       'Brick_Veneer_Area', 'BsmtFinSF1', 'BsmtFinSF2', 'BsmtUnfSF',\n",
              "       'Total_Basement_Area', 'First_Floor_Area', 'Second_Floor_Area',\n",
              "       'LowQualFinSF', 'Grade_Living_Area', 'Underground_Full_Bathroom',\n",
              "       'Underground_Half_Bathroom', 'Full_Bathroom_Above_Grade',\n",
              "       'Half_Bathroom_Above_Grade', 'Bedroom_Above_Grade',\n",
              "       'Kitchen_Above_Grade', 'Rooms_Above_Grade', 'Fireplaces',\n",
              "       'Garage_Built_Year', 'Garage_Size', 'Garage_Area', 'W_Deck_Area',\n",
              "       'Open_Lobby_Area', 'Enclosed_Lobby_Area', 'Three_Season_Lobby_Area',\n",
              "       'Screen_Lobby_Area', 'Pool_Area', 'Miscellaneous_Value', 'Month_Sold',\n",
              "       'Year_Sold', 'Sale_Price'],\n",
              "      dtype='object')"
            ]
          },
          "metadata": {},
          "execution_count": 149
        }
      ]
    },
    {
      "cell_type": "code",
      "metadata": {
        "id": "bLGM3Grx5ezK"
      },
      "source": [
        "ypred = model.predict(Xtest)"
      ],
      "execution_count": null,
      "outputs": []
    },
    {
      "cell_type": "code",
      "metadata": {
        "colab": {
          "base_uri": "https://localhost:8080/"
        },
        "id": "vTn-XNi26hDg",
        "outputId": "c40cdc20-a4e9-476e-984f-d939ebcc78e2"
      },
      "source": [
        "ypred"
      ],
      "execution_count": null,
      "outputs": [
        {
          "output_type": "execute_result",
          "data": {
            "text/plain": [
              "array([150638.88206955, 197887.72356529, 156318.69734309, 247801.02820348,\n",
              "        42804.64469524, 179605.83127907, 137209.40016833, 122302.07205235,\n",
              "        83116.33780978, 111980.62013995, 155346.28859199, 120735.55079581,\n",
              "       318025.45179762, 126681.77997448, 290698.47906056, 187877.55109705,\n",
              "       178445.23486806, 147934.68920495, 218378.86043512, 327145.9926849 ,\n",
              "       112263.73836025, 303511.50063528, 156040.91493547, 305616.95363509,\n",
              "       300798.76532904, 233435.00495244,  72671.12876841, 220075.42741127,\n",
              "        46036.87792355, 141150.88896684, 131844.56105637, 175437.66511273,\n",
              "       116555.00607719, 201240.8887767 , 304708.34899888, 209721.91860911,\n",
              "       208740.20245843, 185554.51743983, 153942.43966174, 202965.81974312,\n",
              "       167622.96613711,  93521.50402395, 240184.56693667, 110549.04798617,\n",
              "       198984.15414483, 205019.16226814, 120322.48143806, 128661.05163904,\n",
              "       172307.12676493, 131243.29408459, 218907.71033926, 156699.06080811,\n",
              "       106742.95594702, 260865.82213765, 138111.8728988 , 125438.09771674,\n",
              "       110562.59639785, 209437.40351959,  81290.62026189, 196512.86610947,\n",
              "       151444.48320334, 161058.28062897, 222244.9361933 , 118714.61969153,\n",
              "       149729.97953828, 132900.76806223,  93545.89046293, 144775.99725173,\n",
              "       236129.18648042, 266066.86755642, 260625.88753024, 159001.29162569,\n",
              "       204807.69655182, 285108.72365987, 184980.58608435, 120212.84498152,\n",
              "       144221.02362307, 410008.92246031, 286446.09646234, 284903.32449793,\n",
              "       171233.52956537, 180370.51355114, 150392.47965512, 139984.99332211,\n",
              "       167647.15187014, 121953.35596701,  49972.77419733, 231149.0917803 ,\n",
              "        36511.23470736, 107651.32746092,  91985.17647709, 214468.26181583,\n",
              "       133823.97546768, 273848.35963621,  86413.53788928, 345140.13586859,\n",
              "       174479.47045855,  96008.6300385 , 295085.5653255 , 318887.86832323,\n",
              "       298483.31624367, 149781.62502998, 131320.41012997, 150196.6758657 ,\n",
              "       148003.31107159,  54188.7351893 , 137642.63211996, 179001.45333898,\n",
              "       105973.24150888, -12446.51390764, 103775.11748431, 142258.02461333,\n",
              "       176608.55805647, 125823.82351567, 189783.20730287, 125645.378972  ,\n",
              "       158362.1706881 ,  85020.71998533, 129211.96804275, 221957.42347188,\n",
              "       150663.91895035, 172348.21023912, 180684.79862529, 170351.07861725,\n",
              "       160834.39530054, 108951.53415029, 118612.02844759, 315591.46031743,\n",
              "       290849.04937519, 270499.45230935, 241490.28523743, 152586.4546868 ,\n",
              "       251844.52499088, 117853.69234559, 124032.87802793, 150040.02778759,\n",
              "       171850.67798939, 134274.91699193, 276565.60759898, 130888.17592013,\n",
              "       154858.88105943, 276644.5699028 , 224831.376446  , 176348.42377631,\n",
              "       159946.85097592,  97261.46888093, 215694.57019097, 231773.08643614,\n",
              "       252056.98525387, 124415.30974739, 185269.77854825, 213030.04954054,\n",
              "       219585.88500734, 225430.09033956, 179675.23267478, 174780.53172999,\n",
              "       215811.74468956, 192326.22328966,  74578.58965405,  90138.02296135,\n",
              "       173934.19571731, 221394.39888033, 167336.38528165, 112865.70745109,\n",
              "       222040.74530311, 122945.46770678, 194916.1464769 , 181647.30384161,\n",
              "       111468.72809502, 136568.58743305, 205747.41838222, 185892.38288975,\n",
              "       111333.47590747, 137454.219296  , 242515.30050256, 142260.90382606,\n",
              "       124962.75695994, 152907.34238911, 291741.91322844, 227930.28133158,\n",
              "       195628.99358772, 227158.26351028, 115304.83214164,  88254.77810269,\n",
              "       250649.74173102, 202101.77867325, 216313.89889586, 121878.52751299,\n",
              "       128151.98694921, 258422.8512057 , 177642.16024572,  99315.21255052,\n",
              "       155809.15289426, 176153.3743064 ,  78680.29909217, 147077.856871  ,\n",
              "       247079.45836459, 194572.13108106, 283240.88744301, 233065.56788121,\n",
              "        95225.37116691, 310237.15213728, 204058.02603946,  50596.20330873,\n",
              "        74454.03523374, 200536.29373551, 310173.76886451, -39248.23393693,\n",
              "       188372.80095856, 116711.45790308, 104467.22047138, 114415.89297909,\n",
              "       262283.68196254,  82992.61565072,  90652.62674702, 235932.44180345,\n",
              "       178407.87242107, 199395.23496751, 178840.35947994, 242364.29094595,\n",
              "       166262.01924466, 151379.76506418, 153938.26376199, 271176.67017099,\n",
              "       188162.55254817, 103189.12125217, 263820.60615158, 237943.37295761,\n",
              "       236335.36638663, 242076.05835362, 146065.1929752 , 161920.17482677,\n",
              "       246570.17044284, 133621.78373196, 306481.72132627, 397756.64414621,\n",
              "       142816.91274342, 130624.98672104, 194851.61852222, 209290.25919817,\n",
              "       158903.16035696, 142811.76429792, 198453.06656857, 165109.19455873,\n",
              "       176665.50399276, 234789.88183167, 299947.48770295, 298040.61929245,\n",
              "       265882.21991407, 130811.92213556,  62779.52458014, 211039.42005638,\n",
              "       314985.44086624, 289119.82474291, 201370.40292754, 148179.67363315,\n",
              "       170805.03065213, 320024.83261413, 263589.99113455, 180678.65108706,\n",
              "       145208.64557152, 289719.46961047,  48530.07957425, 183157.19448693,\n",
              "       377914.78064274, 148489.50499086, 319902.26431805, 132771.51689915,\n",
              "       163150.55634414, 248177.10727952, 181599.95197432, 265328.60127259,\n",
              "       204027.80593108,  70902.97505744,  42652.37396237, 122543.87807259,\n",
              "        78007.02379038, 293810.70839233, 346028.74233114, 153785.33712183,\n",
              "       206548.53051477, 180443.52677451, 191144.32957504, 194357.3628354 ,\n",
              "        90884.18838853, 314951.5360021 ,  85679.39600107, 186182.78922202,\n",
              "       209874.19810183, 152837.61985584, 106028.20345645, 158598.87248566,\n",
              "       308402.37941716, 110830.53931939, 134011.01095357,  82384.05811969,\n",
              "       165965.65876897, 123733.63335517, 190923.77330304, 128687.7392944 ,\n",
              "       193937.19111144, 164611.67299754, 143847.28346506,  99759.64137324,\n",
              "       125289.90194929, 111947.31923481, 208248.98671665, 284602.28211427,\n",
              "       399332.67370012, 154428.77548436, 202087.75036234, 240106.59838986,\n",
              "       198007.84394775, 103248.30618163, 169397.58543059,  95646.30167812,\n",
              "       231557.81981058,  87550.29593076, 153428.13761782, 147287.69398422,\n",
              "       280348.70889848, 138991.89679737, 201471.95654709, 151307.0354674 ,\n",
              "       225832.1058055 , 284454.0957289 , 210701.59201731, 197961.6055076 ,\n",
              "       103387.07014497,  88023.74803027, 159263.16689257, 118309.19759531,\n",
              "       254253.2094621 , 234305.52725963, 123795.85677279, 158947.20436327,\n",
              "       201379.31102191, 235666.30642913, 157996.74357911, 156479.22811297,\n",
              "       161827.68580859, 183606.96486733,  89439.99953995, 143141.03046162,\n",
              "       123944.89270729, 115847.71457101, 141687.01552956, 137290.41501277,\n",
              "       211150.28972449, 204826.50295395, 291156.3619565 ,  14450.90546548,\n",
              "        77278.98665016, 289526.68701592, 218922.22977575, 112400.45264354,\n",
              "       314519.20162012, 201505.77196082, 109950.07488642, 102134.89115128,\n",
              "       309301.91558115, 124683.16491686, 216082.94803895, 261210.44542832,\n",
              "       116462.65934886, 168732.66816282,  69859.3828582 , 105351.39205589,\n",
              "       155637.1054974 , 266341.55948277, 231455.40860962, 190214.60236074,\n",
              "       294178.67446521, 112018.59111956, 144479.30768117,  -2202.41980803,\n",
              "       219907.84073531, 211350.44795822, 138103.37053092, 107528.89525791,\n",
              "       311927.23640933, 258507.26338709, 172086.7716569 , 258293.23276611,\n",
              "       236826.02245133,  62569.19876813, 120952.45181134,  72920.21294382,\n",
              "       156623.33695306, 132499.00159458, 251258.57937586, 110607.55656025,\n",
              "       200116.96927325, 189747.04301335, 111213.85335893, 170926.35823781,\n",
              "       183422.23617101, 156908.25848429, 187779.42746022, 229056.44449141,\n",
              "       171487.35440752,  90513.0139092 , 211984.8807039 , 131673.85366712,\n",
              "       200208.02419776, 105522.31361394, 101278.98375456, 200942.04463784,\n",
              "       128811.36298671,  99769.08125085,  83297.4155166 , 106703.75698023,\n",
              "       154436.06906096, 147816.71975785, 180822.53469303, 132973.88336319,\n",
              "       145497.59713041, 120204.79755273, 115523.0438315 ,  90429.54433563,\n",
              "       232878.41121107, 208917.53917269, 154198.56832097, 228766.32853973,\n",
              "       321052.91477534, 155539.79254508, 102907.25243122, 171217.58042238,\n",
              "        52803.67339216, 182830.67066213, 224864.33284829, 235935.03437062,\n",
              "       174487.7864774 , 333113.64103378, 191300.85087027, 209038.13131846,\n",
              "       232127.74036289, 114190.1020361 ])"
            ]
          },
          "metadata": {},
          "execution_count": 151
        }
      ]
    },
    {
      "cell_type": "code",
      "metadata": {
        "colab": {
          "base_uri": "https://localhost:8080/"
        },
        "id": "hBnj20Tp6iu9",
        "outputId": "97788bcf-1d6e-40dc-c7b9-9efa55f57317"
      },
      "source": [
        "ytest"
      ],
      "execution_count": null,
      "outputs": [
        {
          "output_type": "execute_result",
          "data": {
            "text/plain": [
              "1160    146000\n",
              "1210    189000\n",
              "831     151000\n",
              "1158    235128\n",
              "1321     72500\n",
              "         ...  \n",
              "1243    465000\n",
              "124     181000\n",
              "974     167500\n",
              "793     225000\n",
              "894     118858\n",
              "Name: Sale_Price, Length: 438, dtype: int64"
            ]
          },
          "metadata": {},
          "execution_count": 152
        }
      ]
    },
    {
      "cell_type": "markdown",
      "metadata": {
        "id": "4s_Jd61gA_ZX"
      },
      "source": [
        "Model Evaluation"
      ]
    },
    {
      "cell_type": "code",
      "metadata": {
        "colab": {
          "base_uri": "https://localhost:8080/",
          "height": 352
        },
        "id": "FLomyab_6kK9",
        "outputId": "8631fadb-52c9-4165-c210-b5259cd92eb6"
      },
      "source": [
        "sns.scatterplot(ytest,ypred)"
      ],
      "execution_count": null,
      "outputs": [
        {
          "output_type": "stream",
          "name": "stderr",
          "text": [
            "/usr/local/lib/python3.7/dist-packages/seaborn/_decorators.py:43: FutureWarning: Pass the following variables as keyword args: x, y. From version 0.12, the only valid positional argument will be `data`, and passing other arguments without an explicit keyword will result in an error or misinterpretation.\n",
            "  FutureWarning\n"
          ]
        },
        {
          "output_type": "execute_result",
          "data": {
            "text/plain": [
              "<matplotlib.axes._subplots.AxesSubplot at 0x7f6e9c522190>"
            ]
          },
          "metadata": {},
          "execution_count": 153
        },
        {
          "output_type": "display_data",
          "data": {
            "image/png": "[encoded data removed]",
            "text/plain": [
              "<Figure size 432x288 with 1 Axes>"
            ]
          },
          "metadata": {
            "needs_background": "light"
          }
        }
      ]
    },
    {
      "cell_type": "code",
      "metadata": {
        "colab": {
          "base_uri": "https://localhost:8080/",
          "height": 283
        },
        "id": "deRHDwDQ7OxL",
        "outputId": "2e56722d-e31c-43cd-fe56-91e7c7b570d5"
      },
      "source": [
        "import matplotlib.pyplot as plt\n",
        "plt.scatter(ytest,ypred)"
      ],
      "execution_count": null,
      "outputs": [
        {
          "output_type": "execute_result",
          "data": {
            "text/plain": [
              "<matplotlib.collections.PathCollection at 0x7f6e9c010f90>"
            ]
          },
          "metadata": {},
          "execution_count": 154
        },
        {
          "output_type": "display_data",
          "data": {
            "image/png": "[encoded data removed]",
            "text/plain": [
              "<Figure size 432x288 with 1 Axes>"
            ]
          },
          "metadata": {
            "needs_background": "light"
          }
        }
      ]
    },
    {
      "cell_type": "code",
      "metadata": {
        "colab": {
          "base_uri": "https://localhost:8080/"
        },
        "id": "pvlOLjqF7fdR",
        "outputId": "521404d4-a13f-4c14-84a9-e6b6e00a27db"
      },
      "source": [
        "Accuracy = sklearn.metrics.r2_score(ytest,ypred)\n",
        "print(Accuracy)"
      ],
      "execution_count": null,
      "outputs": [
        {
          "output_type": "stream",
          "name": "stdout",
          "text": [
            "0.851779329335862\n"
          ]
        }
      ]
    },
    {
      "cell_type": "code",
      "metadata": {
        "colab": {
          "base_uri": "https://localhost:8080/"
        },
        "id": "6AAjck2Y8JAn",
        "outputId": "b8f35aa3-4f6b-4b3a-8256-8f89236b238e"
      },
      "source": [
        "RMSE = sklearn.metrics.mean_squared_error(ytest,ypred)\n",
        "print(RMSE)"
      ],
      "execution_count": null,
      "outputs": [
        {
          "output_type": "stream",
          "name": "stdout",
          "text": [
            "884266908.6730703\n"
          ]
        }
      ]
    },
    {
      "cell_type": "markdown",
      "metadata": {
        "id": "B2WEO69H8qZx"
      },
      "source": [
        "1st case 75/25 0.839 and 1130839716.4587467\n",
        "\n",
        "2nd case 80/20 0.813 and 1344652461.6812384\n",
        "\n",
        "3rd case 85/15 0.781 and 1599437871.3807077\n",
        "\n",
        "4th case 70/30 0.851 and 884266908.6730703"
      ]
    },
    {
      "cell_type": "markdown",
      "metadata": {
        "id": "9kQCzg_MAWQj"
      },
      "source": [
        "With New Data sets you have to do"
      ]
    },
    {
      "cell_type": "code",
      "metadata": {
        "id": "4iOEIVqq8h0G"
      },
      "source": [
        "ynew = model.predict(data2)  #data2 is cleaned data from file2"
      ],
      "execution_count": null,
      "outputs": []
    }
  ]
}